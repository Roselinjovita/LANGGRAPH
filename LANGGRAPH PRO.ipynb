{
 "cells": [
  {
   "cell_type": "code",
   "execution_count": null,
   "id": "64f0fb95",
   "metadata": {},
   "outputs": [],
   "source": [
    "#  AI Travel Planner Agent\n",
    "\n",
    "## An intelligent travel planning assistant built with LangGraph and Python. \n",
    "# This agent collects user input and dynamically plans a trip by checking weather forecasts \n",
    "# and suggesting activities based on conditions — all in a conversational and interactive flow.\n",
    "\n",
    "##  Features\n",
    "\n",
    "# - Collects source, destination, and travel dates from the user\n",
    "# - Simulates weather forecast retrieval\n",
    "# - Suggests activities based on weather conditions\n",
    "# - Creates a summarized travel itinerary\n",
    "# - Built using `LangGraph`, a framework for building agent-like workflows"
   ]
  },
  {
   "cell_type": "code",
   "execution_count": 2,
   "id": "7da510a2",
   "metadata": {
    "height": 64
   },
   "outputs": [],
   "source": [
    "from langgraph.graph import StateGraph, END\n",
    "from typing import TypedDict, Optional\n",
    "from random import choice"
   ]
  },
  {
   "cell_type": "code",
   "execution_count": 3,
   "id": "2595da9f",
   "metadata": {
    "height": 183
   },
   "outputs": [],
   "source": [
    "# ---------- STATE ----------\n",
    "class PlannerState(TypedDict):\n",
    "    source: Optional[str]\n",
    "    destination: Optional[str]\n",
    "    dates: Optional[str]\n",
    "    weather: Optional[str]\n",
    "    activities: Optional[list]\n",
    "    finalized_plan: Optional[str]\n",
    "    step: Optional[str]\n"
   ]
  },
  {
   "cell_type": "code",
   "execution_count": 4,
   "id": "c69ddb24",
   "metadata": {
    "height": 166
   },
   "outputs": [],
   "source": [
    "# ---------- MOCK TOOLS ----------\n",
    "def get_weather(destination, dates):\n",
    "    return f\"Sunny in {destination} during {dates}\"\n",
    "\n",
    "def suggest_activities(destination, weather):\n",
    "    if \"Sunny\" in weather:\n",
    "        return [\"Hiking\", \"Sightseeing\", \"Beach\"]\n",
    "    return [\"Museum\", \"Indoor Games\"]\n"
   ]
  },
  {
   "cell_type": "code",
   "execution_count": 5,
   "id": "00bd98c1",
   "metadata": {
    "height": 149
   },
   "outputs": [],
   "source": [
    "# ---------- NODES ----------\n",
    "def get_user_input(state: PlannerState):\n",
    "    print(\"\\n Let's plan your trip!\")\n",
    "    state['source'] = input(\"Enter your current city: \")\n",
    "    state['destination'] = input(\"Enter your travel destination: \")\n",
    "    state['dates'] = input(\"Enter your travel dates (e.g., Sep 15–20): \")\n",
    "    state['step'] = \"weather\"\n",
    "    return state"
   ]
  },
  {
   "cell_type": "code",
   "execution_count": 6,
   "id": "64a11519",
   "metadata": {
    "height": 98
   },
   "outputs": [],
   "source": [
    "def fetch_weather(state: PlannerState):\n",
    "    print(\"Checking the weather at your destination...\")\n",
    "    state['weather'] = get_weather(state['destination'], state['dates'])\n",
    "    state['step'] = \"activities\"\n",
    "    return state"
   ]
  },
  {
   "cell_type": "code",
   "execution_count": 7,
   "id": "f2d3395f",
   "metadata": {
    "height": 98
   },
   "outputs": [],
   "source": [
    "def recommend_activities(state: PlannerState):\n",
    "    print(\" Finding activities you can enjoy...\")\n",
    "    state['activities'] = suggest_activities(state['destination'], state['weather'])\n",
    "    state['step'] = \"finalize\"\n",
    "    return state"
   ]
  },
  {
   "cell_type": "code",
   "execution_count": 8,
   "id": "83c81781",
   "metadata": {
    "height": 183
   },
   "outputs": [],
   "source": [
    "\n",
    "def finalize_plan(state: PlannerState):\n",
    "    print(\"Creating your final travel plan...\\n\")\n",
    "    state['finalized_plan'] = (\n",
    "        f\"Trip from {state['source']} to {state['destination']} ({state['dates']})\\n\"\n",
    "        f\"Weather Forecast: {state['weather']}\\n\"\n",
    "        f\"Recommended Activities: {', '.join(state['activities'])}\"\n",
    "    )\n",
    "    state['step'] = \"done\"\n",
    "    return state"
   ]
  },
  {
   "cell_type": "code",
   "execution_count": 9,
   "id": "d2d3d78b",
   "metadata": {
    "height": 183
   },
   "outputs": [],
   "source": [
    "# ---------- FLOW CONTROL ----------\n",
    "def flow_decision(state: PlannerState):\n",
    "    if state['step'] == \"weather\":\n",
    "        return \"get_weather\"\n",
    "    elif state['step'] == \"activities\":\n",
    "        return \"recommend_activities\"\n",
    "    elif state['step'] == \"finalize\":\n",
    "        return \"finalize\"\n",
    "    else:\n",
    "        return END"
   ]
  },
  {
   "cell_type": "code",
   "execution_count": 10,
   "id": "2ade09e7",
   "metadata": {
    "height": 285
   },
   "outputs": [],
   "source": [
    "# ---------- GRAPH DEFINITION ----------\n",
    "planner_graph = StateGraph(PlannerState)\n",
    "\n",
    "planner_graph.add_node(\"get_input\", get_user_input)\n",
    "planner_graph.add_node(\"get_weather\", fetch_weather)\n",
    "planner_graph.add_node(\"recommend_activities\", recommend_activities)\n",
    "planner_graph.add_node(\"finalize\", finalize_plan)\n",
    "\n",
    "planner_graph.set_entry_point(\"get_input\")\n",
    "\n",
    "planner_graph.add_conditional_edges(\"get_input\", flow_decision)\n",
    "planner_graph.add_conditional_edges(\"get_weather\", flow_decision)\n",
    "planner_graph.add_conditional_edges(\"recommend_activities\", flow_decision)\n",
    "planner_graph.add_conditional_edges(\"finalize\", flow_decision)\n",
    "\n",
    "graph = planner_graph.compile()"
   ]
  },
  {
   "cell_type": "code",
   "execution_count": 11,
   "id": "e728ea12",
   "metadata": {
    "height": 285
   },
   "outputs": [
    {
     "name": "stdout",
     "output_type": "stream",
     "text": [
      "\n",
      " Starting the AI Travel Planner Agent...\n",
      "\n",
      "\n",
      " Let's plan your trip!\n",
      "Enter your current city: thiruvannamalai\n",
      "Enter your travel destination: rajasthan\n",
      "Enter your travel dates (e.g., Sep 15–20): aug 3-10\n",
      "Checking the weather at your destination...\n",
      " Finding activities you can enjoy...\n",
      "Creating your final travel plan...\n",
      "\n",
      "\n",
      " Your Final Travel Plan:\n",
      " Trip from thiruvannamalai to rajasthan (aug 3-10)\n",
      "Weather Forecast: Sunny in rajasthan during aug 3-10\n",
      "Recommended Activities: Hiking, Sightseeing, Beach\n"
     ]
    }
   ],
   "source": [
    "# ---------- EXECUTE ----------\n",
    "if __name__ == \"__main__\":\n",
    "    initial_state = PlannerState(\n",
    "        source=None,\n",
    "        destination=None,\n",
    "        dates=None,\n",
    "        weather=None,\n",
    "        activities=None,\n",
    "        finalized_plan=None,\n",
    "        step=None\n",
    "    )\n",
    "\n",
    "    print(\"\\n STARTING THE AI TRAVEL PLANNER AGENT...\\n\")\n",
    "    final_output = graph.invoke(initial_state)\n",
    "    print(\"\\n Your Final Travel Plan:\\n\", final_output['finalized_plan'])\n"
   ]
  },
  {
   "cell_type": "code",
   "execution_count": null,
   "id": "f52c207b",
   "metadata": {
    "height": 30
   },
   "outputs": [],
   "source": []
  },
  {
   "cell_type": "code",
   "execution_count": null,
   "id": "bc672b5f",
   "metadata": {
    "height": 30
   },
   "outputs": [],
   "source": []
  }
 ],
 "metadata": {
  "kernelspec": {
   "display_name": "Python 3 (ipykernel)",
   "language": "python",
   "name": "python3"
  },
  "language_info": {
   "codemirror_mode": {
    "name": "ipython",
    "version": 3
   },
   "file_extension": ".py",
   "mimetype": "text/x-python",
   "name": "python",
   "nbconvert_exporter": "python",
   "pygments_lexer": "ipython3",
   "version": "3.11.9"
  }
 },
 "nbformat": 4,
 "nbformat_minor": 5
}
